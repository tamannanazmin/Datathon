{
  "nbformat": 4,
  "nbformat_minor": 0,
  "metadata": {
    "colab": {
      "name": "datathon2.ipynb",
      "provenance": [],
      "toc_visible": true
    },
    "kernelspec": {
      "name": "python3",
      "display_name": "Python 3"
    },
    "language_info": {
      "name": "python"
    }
  },
  "cells": [
    {
      "cell_type": "code",
      "execution_count": null,
      "metadata": {
        "id": "RqSRXBirU-gD"
      },
      "outputs": [],
      "source": [
        "import numpy as np\n",
        "import matplotlib.pyplot as plt\n",
        "import pandas as pd"
      ]
    },
    {
      "cell_type": "code",
      "source": [
        "from google.colab import drive\n",
        "drive.mount('/content/drive')"
      ],
      "metadata": {
        "colab": {
          "base_uri": "https://localhost:8080/"
        },
        "id": "yx77TjciVXjj",
        "outputId": "8563bd71-27d8-49fa-be6d-c8a50684202c"
      },
      "execution_count": null,
      "outputs": [
        {
          "output_type": "stream",
          "name": "stdout",
          "text": [
            "Drive already mounted at /content/drive; to attempt to forcibly remount, call drive.mount(\"/content/drive\", force_remount=True).\n"
          ]
        }
      ]
    },
    {
      "cell_type": "code",
      "source": [
        "df = pd.read_csv('/content/drive/MyDrive/datathon/train.csv')"
      ],
      "metadata": {
        "id": "3kEY9upAVYdB"
      },
      "execution_count": null,
      "outputs": []
    },
    {
      "cell_type": "markdown",
      "source": [
        "# removing empty and almost empty columns(s53,s54,s55,s56,s57,s59)"
      ],
      "metadata": {
        "id": "TPo36w2eaaaJ"
      }
    },
    {
      "cell_type": "code",
      "source": [
        "df.info()"
      ],
      "metadata": {
        "colab": {
          "base_uri": "https://localhost:8080/"
        },
        "id": "B52A1M8mVpYj",
        "outputId": "15c79cfd-4eeb-4990-b786-6e624dc20847"
      },
      "execution_count": null,
      "outputs": [
        {
          "output_type": "stream",
          "name": "stdout",
          "text": [
            "<class 'pandas.core.frame.DataFrame'>\n",
            "RangeIndex: 28322 entries, 0 to 28321\n",
            "Data columns (total 36 columns):\n",
            " #   Column  Non-Null Count  Dtype  \n",
            "---  ------  --------------  -----  \n",
            " 0   id      28322 non-null  object \n",
            " 1   gender  28322 non-null  object \n",
            " 2   s11     28322 non-null  object \n",
            " 3   s12     28322 non-null  object \n",
            " 4   s13     28322 non-null  int64  \n",
            " 5   s16     28322 non-null  object \n",
            " 6   s17     28322 non-null  object \n",
            " 7   s18     28322 non-null  object \n",
            " 8   s48     28322 non-null  int64  \n",
            " 9   s52     28322 non-null  object \n",
            " 10  s53     28322 non-null  object \n",
            " 11  s54     2628 non-null   object \n",
            " 12  s55     3206 non-null   object \n",
            " 13  s56     0 non-null      float64\n",
            " 14  s57     0 non-null      float64\n",
            " 15  s58     28322 non-null  object \n",
            " 16  s59     0 non-null      float64\n",
            " 17  s69     28322 non-null  object \n",
            " 18  s70     28322 non-null  object \n",
            " 19  s71     28322 non-null  object \n",
            " 20  n1      28322 non-null  float64\n",
            " 21  n2      28322 non-null  float64\n",
            " 22  n3      28322 non-null  int64  \n",
            " 23  n4      28322 non-null  float64\n",
            " 24  n5      28322 non-null  float64\n",
            " 25  n6      28322 non-null  float64\n",
            " 26  n7      28322 non-null  float64\n",
            " 27  n8      28322 non-null  float64\n",
            " 28  n9      28322 non-null  float64\n",
            " 29  n10     28322 non-null  float64\n",
            " 30  n11     28322 non-null  float64\n",
            " 31  n12     28322 non-null  int64  \n",
            " 32  n13     28322 non-null  int64  \n",
            " 33  n14     28322 non-null  float64\n",
            " 34  n15     28322 non-null  int64  \n",
            " 35  label   28322 non-null  int64  \n",
            "dtypes: float64(14), int64(7), object(15)\n",
            "memory usage: 7.8+ MB\n"
          ]
        }
      ]
    },
    {
      "cell_type": "code",
      "source": [
        "df.shape"
      ],
      "metadata": {
        "colab": {
          "base_uri": "https://localhost:8080/"
        },
        "id": "cWoxWM0uV2ej",
        "outputId": "386959a2-ffa6-4b4b-836e-62d18ee3b5b7"
      },
      "execution_count": null,
      "outputs": [
        {
          "output_type": "execute_result",
          "data": {
            "text/plain": [
              "(28322, 36)"
            ]
          },
          "metadata": {},
          "execution_count": 6
        }
      ]
    },
    {
      "cell_type": "code",
      "source": [
        "df1 = df.dropna(axis=1)\n",
        "print(df1.shape)"
      ],
      "metadata": {
        "colab": {
          "base_uri": "https://localhost:8080/"
        },
        "id": "SsdYfezIV12x",
        "outputId": "3bc2187c-2d2e-4f52-a410-e5919c939c30"
      },
      "execution_count": null,
      "outputs": [
        {
          "output_type": "stream",
          "name": "stdout",
          "text": [
            "(28322, 31)\n"
          ]
        }
      ]
    },
    {
      "cell_type": "code",
      "source": [
        "df1.info()"
      ],
      "metadata": {
        "colab": {
          "base_uri": "https://localhost:8080/"
        },
        "id": "gLRgXyHfWk5T",
        "outputId": "ac850a3f-b2b7-4480-8da9-135ba2df3ce0"
      },
      "execution_count": null,
      "outputs": [
        {
          "output_type": "stream",
          "name": "stdout",
          "text": [
            "<class 'pandas.core.frame.DataFrame'>\n",
            "RangeIndex: 28322 entries, 0 to 28321\n",
            "Data columns (total 31 columns):\n",
            " #   Column  Non-Null Count  Dtype  \n",
            "---  ------  --------------  -----  \n",
            " 0   id      28322 non-null  object \n",
            " 1   gender  28322 non-null  object \n",
            " 2   s11     28322 non-null  object \n",
            " 3   s12     28322 non-null  object \n",
            " 4   s13     28322 non-null  int64  \n",
            " 5   s16     28322 non-null  object \n",
            " 6   s17     28322 non-null  object \n",
            " 7   s18     28322 non-null  object \n",
            " 8   s48     28322 non-null  int64  \n",
            " 9   s52     28322 non-null  object \n",
            " 10  s53     28322 non-null  object \n",
            " 11  s58     28322 non-null  object \n",
            " 12  s69     28322 non-null  object \n",
            " 13  s70     28322 non-null  object \n",
            " 14  s71     28322 non-null  object \n",
            " 15  n1      28322 non-null  float64\n",
            " 16  n2      28322 non-null  float64\n",
            " 17  n3      28322 non-null  int64  \n",
            " 18  n4      28322 non-null  float64\n",
            " 19  n5      28322 non-null  float64\n",
            " 20  n6      28322 non-null  float64\n",
            " 21  n7      28322 non-null  float64\n",
            " 22  n8      28322 non-null  float64\n",
            " 23  n9      28322 non-null  float64\n",
            " 24  n10     28322 non-null  float64\n",
            " 25  n11     28322 non-null  float64\n",
            " 26  n12     28322 non-null  int64  \n",
            " 27  n13     28322 non-null  int64  \n",
            " 28  n14     28322 non-null  float64\n",
            " 29  n15     28322 non-null  int64  \n",
            " 30  label   28322 non-null  int64  \n",
            "dtypes: float64(11), int64(7), object(13)\n",
            "memory usage: 6.7+ MB\n"
          ]
        }
      ]
    },
    {
      "cell_type": "code",
      "source": [
        "df1.drop('s53', inplace=True, axis=1)"
      ],
      "metadata": {
        "colab": {
          "base_uri": "https://localhost:8080/"
        },
        "id": "Xs7mj71hZ0nh",
        "outputId": "a5fdb7b7-0963-4a41-9e30-7fae19236dff"
      },
      "execution_count": null,
      "outputs": [
        {
          "output_type": "stream",
          "name": "stderr",
          "text": [
            "/usr/local/lib/python3.7/dist-packages/pandas/core/frame.py:4913: SettingWithCopyWarning: \n",
            "A value is trying to be set on a copy of a slice from a DataFrame\n",
            "\n",
            "See the caveats in the documentation: https://pandas.pydata.org/pandas-docs/stable/user_guide/indexing.html#returning-a-view-versus-a-copy\n",
            "  errors=errors,\n"
          ]
        }
      ]
    },
    {
      "cell_type": "code",
      "source": [
        "df1.info()"
      ],
      "metadata": {
        "colab": {
          "base_uri": "https://localhost:8080/"
        },
        "id": "qno5WWcxaLcg",
        "outputId": "75d875bd-4628-41d7-d716-c884476a8557"
      },
      "execution_count": null,
      "outputs": [
        {
          "output_type": "stream",
          "name": "stdout",
          "text": [
            "<class 'pandas.core.frame.DataFrame'>\n",
            "RangeIndex: 28322 entries, 0 to 28321\n",
            "Data columns (total 30 columns):\n",
            " #   Column  Non-Null Count  Dtype  \n",
            "---  ------  --------------  -----  \n",
            " 0   id      28322 non-null  object \n",
            " 1   gender  28322 non-null  object \n",
            " 2   s11     28322 non-null  object \n",
            " 3   s12     28322 non-null  object \n",
            " 4   s13     28322 non-null  int64  \n",
            " 5   s16     28322 non-null  object \n",
            " 6   s17     28322 non-null  object \n",
            " 7   s18     28322 non-null  object \n",
            " 8   s48     28322 non-null  int64  \n",
            " 9   s52     28322 non-null  object \n",
            " 10  s58     28322 non-null  object \n",
            " 11  s69     28322 non-null  object \n",
            " 12  s70     28322 non-null  object \n",
            " 13  s71     28322 non-null  object \n",
            " 14  n1      28322 non-null  float64\n",
            " 15  n2      28322 non-null  float64\n",
            " 16  n3      28322 non-null  int64  \n",
            " 17  n4      28322 non-null  float64\n",
            " 18  n5      28322 non-null  float64\n",
            " 19  n6      28322 non-null  float64\n",
            " 20  n7      28322 non-null  float64\n",
            " 21  n8      28322 non-null  float64\n",
            " 22  n9      28322 non-null  float64\n",
            " 23  n10     28322 non-null  float64\n",
            " 24  n11     28322 non-null  float64\n",
            " 25  n12     28322 non-null  int64  \n",
            " 26  n13     28322 non-null  int64  \n",
            " 27  n14     28322 non-null  float64\n",
            " 28  n15     28322 non-null  int64  \n",
            " 29  label   28322 non-null  int64  \n",
            "dtypes: float64(11), int64(7), object(12)\n",
            "memory usage: 6.5+ MB\n"
          ]
        }
      ]
    },
    {
      "cell_type": "code",
      "source": [
        "df1.shape"
      ],
      "metadata": {
        "colab": {
          "base_uri": "https://localhost:8080/"
        },
        "id": "SvEKbEbpaS9w",
        "outputId": "0f72af46-397c-4813-8d3a-7ef8fa62833c"
      },
      "execution_count": null,
      "outputs": [
        {
          "output_type": "execute_result",
          "data": {
            "text/plain": [
              "(28322, 30)"
            ]
          },
          "metadata": {},
          "execution_count": 11
        }
      ]
    },
    {
      "cell_type": "markdown",
      "source": [
        "# removing empty rows"
      ],
      "metadata": {
        "id": "WGmSfH8vF06Z"
      }
    },
    {
      "cell_type": "code",
      "source": [
        "df1 = df1.dropna(axis=0)\n",
        "print(df1.shape)"
      ],
      "metadata": {
        "colab": {
          "base_uri": "https://localhost:8080/"
        },
        "id": "EJZeTLZ-GDc1",
        "outputId": "8cc174bd-ee73-415c-9c7f-73c8405af74a"
      },
      "execution_count": null,
      "outputs": [
        {
          "output_type": "stream",
          "name": "stdout",
          "text": [
            "(28322, 30)\n"
          ]
        }
      ]
    },
    {
      "cell_type": "markdown",
      "source": [
        "# Converting s52 into numerical value(I to 1, o to 0)"
      ],
      "metadata": {
        "id": "MU3V6TjUayXQ"
      }
    },
    {
      "cell_type": "code",
      "source": [
        "df1['s52'] = df1['s52'].replace(['l','o'],['1','0'])"
      ],
      "metadata": {
        "id": "MSad--jxa_6I"
      },
      "execution_count": null,
      "outputs": []
    },
    {
      "cell_type": "code",
      "source": [
        "pd.to_numeric(df1['s52'], downcast='integer')"
      ],
      "metadata": {
        "colab": {
          "base_uri": "https://localhost:8080/"
        },
        "id": "lxPeCNyVffWn",
        "outputId": "f489c26c-55df-4e51-aed3-ad3d7971c7aa"
      },
      "execution_count": null,
      "outputs": [
        {
          "output_type": "execute_result",
          "data": {
            "text/plain": [
              "0        1\n",
              "1        1\n",
              "2        1\n",
              "3        1\n",
              "4        1\n",
              "        ..\n",
              "28317    1\n",
              "28318    1\n",
              "28319    1\n",
              "28320    1\n",
              "28321    1\n",
              "Name: s52, Length: 28322, dtype: int8"
            ]
          },
          "metadata": {},
          "execution_count": 14
        }
      ]
    },
    {
      "cell_type": "code",
      "source": [
        "df1.groupby('s52').size()"
      ],
      "metadata": {
        "colab": {
          "base_uri": "https://localhost:8080/"
        },
        "id": "ThpqzeolhU5H",
        "outputId": "b32e77a4-33d7-48e6-d1ed-2e96a4252d8a"
      },
      "execution_count": null,
      "outputs": [
        {
          "output_type": "execute_result",
          "data": {
            "text/plain": [
              "s52\n",
              "0     1290\n",
              "1    27032\n",
              "dtype: int64"
            ]
          },
          "metadata": {},
          "execution_count": 15
        }
      ]
    },
    {
      "cell_type": "code",
      "source": [
        "df1.info()"
      ],
      "metadata": {
        "colab": {
          "base_uri": "https://localhost:8080/"
        },
        "id": "cyNhgwQQ6uK4",
        "outputId": "33fd4fc8-c865-4545-9765-1d1fe8da7ee5"
      },
      "execution_count": null,
      "outputs": [
        {
          "output_type": "stream",
          "name": "stdout",
          "text": [
            "<class 'pandas.core.frame.DataFrame'>\n",
            "Int64Index: 28322 entries, 0 to 28321\n",
            "Data columns (total 30 columns):\n",
            " #   Column  Non-Null Count  Dtype  \n",
            "---  ------  --------------  -----  \n",
            " 0   id      28322 non-null  object \n",
            " 1   gender  28322 non-null  object \n",
            " 2   s11     28322 non-null  object \n",
            " 3   s12     28322 non-null  object \n",
            " 4   s13     28322 non-null  int64  \n",
            " 5   s16     28322 non-null  object \n",
            " 6   s17     28322 non-null  object \n",
            " 7   s18     28322 non-null  object \n",
            " 8   s48     28322 non-null  int64  \n",
            " 9   s52     28322 non-null  object \n",
            " 10  s58     28322 non-null  object \n",
            " 11  s69     28322 non-null  object \n",
            " 12  s70     28322 non-null  object \n",
            " 13  s71     28322 non-null  object \n",
            " 14  n1      28322 non-null  float64\n",
            " 15  n2      28322 non-null  float64\n",
            " 16  n3      28322 non-null  int64  \n",
            " 17  n4      28322 non-null  float64\n",
            " 18  n5      28322 non-null  float64\n",
            " 19  n6      28322 non-null  float64\n",
            " 20  n7      28322 non-null  float64\n",
            " 21  n8      28322 non-null  float64\n",
            " 22  n9      28322 non-null  float64\n",
            " 23  n10     28322 non-null  float64\n",
            " 24  n11     28322 non-null  float64\n",
            " 25  n12     28322 non-null  int64  \n",
            " 26  n13     28322 non-null  int64  \n",
            " 27  n14     28322 non-null  float64\n",
            " 28  n15     28322 non-null  int64  \n",
            " 29  label   28322 non-null  int64  \n",
            "dtypes: float64(11), int64(7), object(12)\n",
            "memory usage: 6.7+ MB\n"
          ]
        }
      ]
    },
    {
      "cell_type": "code",
      "source": [
        ""
      ],
      "metadata": {
        "id": "tR5QKDGHRDmB"
      },
      "execution_count": null,
      "outputs": []
    },
    {
      "cell_type": "markdown",
      "source": [
        "# Showing the Feature importance using random forest"
      ],
      "metadata": {
        "id": "W8rEwi566nd_"
      }
    },
    {
      "cell_type": "code",
      "source": [
        "# random forest for feature importance on a classification problem\n",
        "from sklearn.datasets import make_classification\n",
        "from sklearn.ensemble import RandomForestClassifier\n",
        "from matplotlib import pyplot\n"
      ],
      "metadata": {
        "id": "RbtkiNMLHxId"
      },
      "execution_count": null,
      "outputs": []
    },
    {
      "cell_type": "code",
      "source": [
        "from sklearn.preprocessing import LabelEncoder\n",
        "LE = LabelEncoder()\n",
        "df1['gender'] = LE.fit_transform(df1['gender'])"
      ],
      "metadata": {
        "id": "CEulAgLHIE8D"
      },
      "execution_count": null,
      "outputs": []
    },
    {
      "cell_type": "code",
      "source": [
        "df1['s11'] = LE.fit_transform(df1['s11'])\n",
        "df1['s12'] = LE.fit_transform(df1['s12'])\n",
        "df1['s16'] = LE.fit_transform(df1['s16'])\n",
        "df1['s17'] = LE.fit_transform(df1['s17'])\n",
        "df1['s18'] = LE.fit_transform(df1['s18'])\n",
        "df1['s52'] = LE.fit_transform(df1['s52'])\n",
        "df1['s58'] = LE.fit_transform(df1['s58'])\n",
        "df1['s69'] = LE.fit_transform(df1['s69'])\n",
        "df1['s70'] = LE.fit_transform(df1['s70'])\n",
        "df1['s71'] = LE.fit_transform(df1['s71'])"
      ],
      "metadata": {
        "id": "HiU16soVIgqF"
      },
      "execution_count": null,
      "outputs": []
    },
    {
      "cell_type": "code",
      "source": [
        "#df1['s69']"
      ],
      "metadata": {
        "id": "s6ncbfFSIlf7"
      },
      "execution_count": null,
      "outputs": []
    },
    {
      "cell_type": "code",
      "source": [
        "df_list=df1.iloc[:,1:29].values.tolist()"
      ],
      "metadata": {
        "id": "UgNYuQTzL_mr"
      },
      "execution_count": null,
      "outputs": []
    },
    {
      "cell_type": "code",
      "source": [
        "#df_list[0]"
      ],
      "metadata": {
        "id": "4gnRDGBWMFVC"
      },
      "execution_count": null,
      "outputs": []
    },
    {
      "cell_type": "code",
      "source": [
        "# define dataset\n",
        "X=df_list\n",
        "y=df1.iloc[:,-1].values.tolist()\n",
        "# define the model\n"
      ],
      "metadata": {
        "id": "rU03yzAXH0zr"
      },
      "execution_count": null,
      "outputs": []
    },
    {
      "cell_type": "code",
      "source": [
        "model = RandomForestClassifier()\n",
        "# fit the model\n",
        "model.fit(X, y)\n",
        "# get importance\n",
        "importance = model.feature_importances_\n",
        "# summarize feature importance\n",
        "for i,v in enumerate(importance):\n",
        "\tprint('Feature: %0d, Score: %.5f' % (i+2,v))\n"
      ],
      "metadata": {
        "colab": {
          "base_uri": "https://localhost:8080/"
        },
        "id": "IIRQ-6pMOlMb",
        "outputId": "e6f47c90-2472-4902-f7d2-1e83438cab9b"
      },
      "execution_count": null,
      "outputs": [
        {
          "output_type": "stream",
          "name": "stdout",
          "text": [
            "Feature: 2, Score: 0.01273\n",
            "Feature: 3, Score: 0.01597\n",
            "Feature: 4, Score: 0.00497\n",
            "Feature: 5, Score: 0.00549\n",
            "Feature: 6, Score: 0.06338\n",
            "Feature: 7, Score: 0.01414\n",
            "Feature: 8, Score: 0.03058\n",
            "Feature: 9, Score: 0.01998\n",
            "Feature: 10, Score: 0.00280\n",
            "Feature: 11, Score: 0.00449\n",
            "Feature: 12, Score: 0.09763\n",
            "Feature: 13, Score: 0.01163\n",
            "Feature: 14, Score: 0.03399\n",
            "Feature: 15, Score: 0.05853\n",
            "Feature: 16, Score: 0.05806\n",
            "Feature: 17, Score: 0.02312\n",
            "Feature: 18, Score: 0.05813\n",
            "Feature: 19, Score: 0.07161\n",
            "Feature: 20, Score: 0.06398\n",
            "Feature: 21, Score: 0.05340\n",
            "Feature: 22, Score: 0.05753\n",
            "Feature: 23, Score: 0.05225\n",
            "Feature: 24, Score: 0.05389\n",
            "Feature: 25, Score: 0.05037\n",
            "Feature: 26, Score: 0.00139\n",
            "Feature: 27, Score: 0.00479\n",
            "Feature: 28, Score: 0.05096\n",
            "Feature: 29, Score: 0.02424\n"
          ]
        }
      ]
    },
    {
      "cell_type": "code",
      "source": [
        "# plot feature importance\n",
        "pyplot.bar([x for x in range(len(importance))], importance)\n",
        "pyplot.show()"
      ],
      "metadata": {
        "colab": {
          "base_uri": "https://localhost:8080/",
          "height": 265
        },
        "id": "mp6ApjyfOz0s",
        "outputId": "4316d267-d16a-440d-bdf3-9130bd76c878"
      },
      "execution_count": null,
      "outputs": [
        {
          "output_type": "display_data",
          "data": {
            "text/plain": [
              "<Figure size 432x288 with 1 Axes>"
            ],
            "image/png": "[encoded data removed]"
          },
          "metadata": {
            "needs_background": "light"
          }
        }
      ]
    },
    {
      "cell_type": "code",
      "source": [
        "#2=s12 3=s13 8=s52 9=s58 24=n12 25=n13"
      ],
      "metadata": {
        "id": "GELnu0HfRm2y"
      },
      "execution_count": null,
      "outputs": []
    },
    {
      "cell_type": "markdown",
      "source": [
        "# Showing the Feature importance using XGBoost"
      ],
      "metadata": {
        "id": "nQDRviPtPJkg"
      }
    },
    {
      "cell_type": "code",
      "source": [
        "!pip install xgboost"
      ],
      "metadata": {
        "colab": {
          "base_uri": "https://localhost:8080/"
        },
        "id": "LBdh7wCRPBSh",
        "outputId": "685dd9ca-7788-4202-83cc-c15aac2b0063"
      },
      "execution_count": null,
      "outputs": [
        {
          "output_type": "stream",
          "name": "stdout",
          "text": [
            "Looking in indexes: https://pypi.org/simple, https://us-python.pkg.dev/colab-wheels/public/simple/\n",
            "Requirement already satisfied: xgboost in /usr/local/lib/python3.7/dist-packages (0.90)\n",
            "Requirement already satisfied: scipy in /usr/local/lib/python3.7/dist-packages (from xgboost) (1.4.1)\n",
            "Requirement already satisfied: numpy in /usr/local/lib/python3.7/dist-packages (from xgboost) (1.21.6)\n"
          ]
        }
      ]
    },
    {
      "cell_type": "code",
      "source": [
        "# check xgboost version\n",
        "import xgboost\n",
        "# xgboost for feature importance on a regression problem\n",
        "from sklearn.datasets import make_regression\n",
        "from xgboost import XGBRegressor\n",
        "from matplotlib import pyplot\n"
      ],
      "metadata": {
        "id": "D7CNNVetPVfx"
      },
      "execution_count": null,
      "outputs": []
    },
    {
      "cell_type": "code",
      "source": [
        "model = XGBRegressor()\n",
        "# fit the model\n",
        "model.fit(X, y)\n",
        "# get importance\n",
        "importance = model.feature_importances_\n",
        "# summarize feature importance\n",
        "for i,v in enumerate(importance):\n",
        "\tprint('Feature: %0d, Score: %.5f' % (i+2,v))\n"
      ],
      "metadata": {
        "colab": {
          "base_uri": "https://localhost:8080/"
        },
        "id": "KDo9_Bt4PdO6",
        "outputId": "b6ca94ef-d7e1-4680-fdbd-5c8c15d938d0"
      },
      "execution_count": null,
      "outputs": [
        {
          "output_type": "stream",
          "name": "stdout",
          "text": [
            "[20:57:57] WARNING: /workspace/src/objective/regression_obj.cu:152: reg:linear is now deprecated in favor of reg:squarederror.\n",
            "Feature: 2, Score: 0.03438\n",
            "Feature: 3, Score: 0.03971\n",
            "Feature: 4, Score: 0.00759\n",
            "Feature: 5, Score: 0.03184\n",
            "Feature: 6, Score: 0.40336\n",
            "Feature: 7, Score: 0.04330\n",
            "Feature: 8, Score: 0.17642\n",
            "Feature: 9, Score: 0.06087\n",
            "Feature: 10, Score: 0.00132\n",
            "Feature: 11, Score: 0.00000\n",
            "Feature: 12, Score: 0.00385\n",
            "Feature: 13, Score: 0.00000\n",
            "Feature: 14, Score: 0.00000\n",
            "Feature: 15, Score: 0.02880\n",
            "Feature: 16, Score: 0.02500\n",
            "Feature: 17, Score: 0.00941\n",
            "Feature: 18, Score: 0.00851\n",
            "Feature: 19, Score: 0.05121\n",
            "Feature: 20, Score: 0.01806\n",
            "Feature: 21, Score: 0.00715\n",
            "Feature: 22, Score: 0.01561\n",
            "Feature: 23, Score: 0.00654\n",
            "Feature: 24, Score: 0.00855\n",
            "Feature: 25, Score: 0.00493\n",
            "Feature: 26, Score: 0.00265\n",
            "Feature: 27, Score: 0.00000\n",
            "Feature: 28, Score: 0.00484\n",
            "Feature: 29, Score: 0.00612\n"
          ]
        }
      ]
    },
    {
      "cell_type": "code",
      "source": [
        "# plot feature importance\n",
        "pyplot.bar([x for x in range(len(importance))], importance)\n",
        "pyplot.show()"
      ],
      "metadata": {
        "colab": {
          "base_uri": "https://localhost:8080/",
          "height": 265
        },
        "id": "5Tuw2ecUPiYR",
        "outputId": "ce4f541d-1799-423c-cfaf-54efe81ae913"
      },
      "execution_count": null,
      "outputs": [
        {
          "output_type": "display_data",
          "data": {
            "text/plain": [
              "<Figure size 432x288 with 1 Axes>"
            ],
            "image/png": "[encoded data removed]"
          },
          "metadata": {
            "needs_background": "light"
          }
        }
      ]
    }
  ]
}