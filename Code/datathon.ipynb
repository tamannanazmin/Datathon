{
  "nbformat": 4,
  "nbformat_minor": 0,
  "metadata": {
    "colab": {
      "name": "datathon.ipynb",
      "provenance": [],
      "toc_visible": true
    },
    "kernelspec": {
      "name": "python3",
      "display_name": "Python 3"
    },
    "language_info": {
      "name": "python"
    }
  },
  "cells": [
    {
      "cell_type": "code",
      "execution_count": null,
      "metadata": {
        "id": "RqSRXBirU-gD"
      },
      "outputs": [],
      "source": [
        "import numpy as np\n",
        "import matplotlib.pyplot as plt\n",
        "import pandas as pd"
      ]
    },
    {
      "cell_type": "code",
      "source": [
        "from google.colab import drive\n",
        "drive.mount('/content/drive')"
      ],
      "metadata": {
        "colab": {
          "base_uri": "https://localhost:8080/"
        },
        "id": "yx77TjciVXjj",
        "outputId": "2e23f344-7b36-44a8-e28c-7490aaca5f05"
      },
      "execution_count": null,
      "outputs": [
        {
          "output_type": "stream",
          "name": "stdout",
          "text": [
            "Drive already mounted at /content/drive; to attempt to forcibly remount, call drive.mount(\"/content/drive\", force_remount=True).\n"
          ]
        }
      ]
    },
    {
      "cell_type": "code",
      "source": [
        "df = pd.read_csv('/content/drive/MyDrive/datathon/train.csv')"
      ],
      "metadata": {
        "id": "3kEY9upAVYdB"
      },
      "execution_count": null,
      "outputs": []
    },
    {
      "cell_type": "markdown",
      "source": [
        "# removing empty and almost empty columns(s53,s54,s55,s56,s57,s59)"
      ],
      "metadata": {
        "id": "TPo36w2eaaaJ"
      }
    },
    {
      "cell_type": "code",
      "source": [
        "df.info()"
      ],
      "metadata": {
        "colab": {
          "base_uri": "https://localhost:8080/"
        },
        "id": "B52A1M8mVpYj",
        "outputId": "07ec8eea-0ddb-4abc-f563-b6602b31d2ea"
      },
      "execution_count": null,
      "outputs": [
        {
          "output_type": "stream",
          "name": "stdout",
          "text": [
            "<class 'pandas.core.frame.DataFrame'>\n",
            "RangeIndex: 28322 entries, 0 to 28321\n",
            "Data columns (total 36 columns):\n",
            " #   Column  Non-Null Count  Dtype  \n",
            "---  ------  --------------  -----  \n",
            " 0   id      28322 non-null  object \n",
            " 1   gender  28322 non-null  object \n",
            " 2   s11     28322 non-null  object \n",
            " 3   s12     28322 non-null  object \n",
            " 4   s13     28322 non-null  int64  \n",
            " 5   s16     28322 non-null  object \n",
            " 6   s17     28322 non-null  object \n",
            " 7   s18     28322 non-null  object \n",
            " 8   s48     28322 non-null  int64  \n",
            " 9   s52     28322 non-null  object \n",
            " 10  s53     28322 non-null  object \n",
            " 11  s54     2628 non-null   object \n",
            " 12  s55     3206 non-null   object \n",
            " 13  s56     0 non-null      float64\n",
            " 14  s57     0 non-null      float64\n",
            " 15  s58     28322 non-null  object \n",
            " 16  s59     0 non-null      float64\n",
            " 17  s69     28322 non-null  object \n",
            " 18  s70     28322 non-null  object \n",
            " 19  s71     28322 non-null  object \n",
            " 20  n1      28322 non-null  float64\n",
            " 21  n2      28322 non-null  float64\n",
            " 22  n3      28322 non-null  int64  \n",
            " 23  n4      28322 non-null  float64\n",
            " 24  n5      28322 non-null  float64\n",
            " 25  n6      28322 non-null  float64\n",
            " 26  n7      28322 non-null  float64\n",
            " 27  n8      28322 non-null  float64\n",
            " 28  n9      28322 non-null  float64\n",
            " 29  n10     28322 non-null  float64\n",
            " 30  n11     28322 non-null  float64\n",
            " 31  n12     28322 non-null  int64  \n",
            " 32  n13     28322 non-null  int64  \n",
            " 33  n14     28322 non-null  float64\n",
            " 34  n15     28322 non-null  int64  \n",
            " 35  label   28322 non-null  int64  \n",
            "dtypes: float64(14), int64(7), object(15)\n",
            "memory usage: 7.8+ MB\n"
          ]
        }
      ]
    },
    {
      "cell_type": "code",
      "source": [
        "df.shape"
      ],
      "metadata": {
        "colab": {
          "base_uri": "https://localhost:8080/"
        },
        "id": "cWoxWM0uV2ej",
        "outputId": "f4f00f0e-1622-404e-aca2-8159d4468f92"
      },
      "execution_count": null,
      "outputs": [
        {
          "output_type": "execute_result",
          "data": {
            "text/plain": [
              "(28322, 36)"
            ]
          },
          "metadata": {},
          "execution_count": 67
        }
      ]
    },
    {
      "cell_type": "code",
      "source": [
        "df1 = df.dropna(axis=1)\n",
        "print(df1.shape)"
      ],
      "metadata": {
        "colab": {
          "base_uri": "https://localhost:8080/"
        },
        "id": "SsdYfezIV12x",
        "outputId": "2d05c00f-7968-4452-c4e0-aa3db924afad"
      },
      "execution_count": null,
      "outputs": [
        {
          "output_type": "stream",
          "name": "stdout",
          "text": [
            "(28322, 31)\n"
          ]
        }
      ]
    },
    {
      "cell_type": "code",
      "source": [
        "df1.info()"
      ],
      "metadata": {
        "colab": {
          "base_uri": "https://localhost:8080/"
        },
        "id": "gLRgXyHfWk5T",
        "outputId": "e98ea679-d678-491d-bf6a-2e3f501494bd"
      },
      "execution_count": null,
      "outputs": [
        {
          "output_type": "stream",
          "name": "stdout",
          "text": [
            "<class 'pandas.core.frame.DataFrame'>\n",
            "RangeIndex: 28322 entries, 0 to 28321\n",
            "Data columns (total 31 columns):\n",
            " #   Column  Non-Null Count  Dtype  \n",
            "---  ------  --------------  -----  \n",
            " 0   id      28322 non-null  object \n",
            " 1   gender  28322 non-null  object \n",
            " 2   s11     28322 non-null  object \n",
            " 3   s12     28322 non-null  object \n",
            " 4   s13     28322 non-null  int64  \n",
            " 5   s16     28322 non-null  object \n",
            " 6   s17     28322 non-null  object \n",
            " 7   s18     28322 non-null  object \n",
            " 8   s48     28322 non-null  int64  \n",
            " 9   s52     28322 non-null  object \n",
            " 10  s53     28322 non-null  object \n",
            " 11  s58     28322 non-null  object \n",
            " 12  s69     28322 non-null  object \n",
            " 13  s70     28322 non-null  object \n",
            " 14  s71     28322 non-null  object \n",
            " 15  n1      28322 non-null  float64\n",
            " 16  n2      28322 non-null  float64\n",
            " 17  n3      28322 non-null  int64  \n",
            " 18  n4      28322 non-null  float64\n",
            " 19  n5      28322 non-null  float64\n",
            " 20  n6      28322 non-null  float64\n",
            " 21  n7      28322 non-null  float64\n",
            " 22  n8      28322 non-null  float64\n",
            " 23  n9      28322 non-null  float64\n",
            " 24  n10     28322 non-null  float64\n",
            " 25  n11     28322 non-null  float64\n",
            " 26  n12     28322 non-null  int64  \n",
            " 27  n13     28322 non-null  int64  \n",
            " 28  n14     28322 non-null  float64\n",
            " 29  n15     28322 non-null  int64  \n",
            " 30  label   28322 non-null  int64  \n",
            "dtypes: float64(11), int64(7), object(13)\n",
            "memory usage: 6.7+ MB\n"
          ]
        }
      ]
    },
    {
      "cell_type": "code",
      "source": [
        "df1.drop('s53', inplace=True, axis=1)"
      ],
      "metadata": {
        "colab": {
          "base_uri": "https://localhost:8080/"
        },
        "id": "Xs7mj71hZ0nh",
        "outputId": "ea7a4ccb-03e9-4b62-b73e-d48d478c5fa1"
      },
      "execution_count": null,
      "outputs": [
        {
          "output_type": "stream",
          "name": "stderr",
          "text": [
            "/usr/local/lib/python3.7/dist-packages/pandas/core/frame.py:4913: SettingWithCopyWarning: \n",
            "A value is trying to be set on a copy of a slice from a DataFrame\n",
            "\n",
            "See the caveats in the documentation: https://pandas.pydata.org/pandas-docs/stable/user_guide/indexing.html#returning-a-view-versus-a-copy\n",
            "  errors=errors,\n"
          ]
        }
      ]
    },
    {
      "cell_type": "code",
      "source": [
        "df1.info()"
      ],
      "metadata": {
        "colab": {
          "base_uri": "https://localhost:8080/"
        },
        "id": "qno5WWcxaLcg",
        "outputId": "a9b6d668-023e-4309-bb5e-3345d43310af"
      },
      "execution_count": null,
      "outputs": [
        {
          "output_type": "stream",
          "name": "stdout",
          "text": [
            "<class 'pandas.core.frame.DataFrame'>\n",
            "RangeIndex: 28322 entries, 0 to 28321\n",
            "Data columns (total 30 columns):\n",
            " #   Column  Non-Null Count  Dtype  \n",
            "---  ------  --------------  -----  \n",
            " 0   id      28322 non-null  object \n",
            " 1   gender  28322 non-null  object \n",
            " 2   s11     28322 non-null  object \n",
            " 3   s12     28322 non-null  object \n",
            " 4   s13     28322 non-null  int64  \n",
            " 5   s16     28322 non-null  object \n",
            " 6   s17     28322 non-null  object \n",
            " 7   s18     28322 non-null  object \n",
            " 8   s48     28322 non-null  int64  \n",
            " 9   s52     28322 non-null  object \n",
            " 10  s58     28322 non-null  object \n",
            " 11  s69     28322 non-null  object \n",
            " 12  s70     28322 non-null  object \n",
            " 13  s71     28322 non-null  object \n",
            " 14  n1      28322 non-null  float64\n",
            " 15  n2      28322 non-null  float64\n",
            " 16  n3      28322 non-null  int64  \n",
            " 17  n4      28322 non-null  float64\n",
            " 18  n5      28322 non-null  float64\n",
            " 19  n6      28322 non-null  float64\n",
            " 20  n7      28322 non-null  float64\n",
            " 21  n8      28322 non-null  float64\n",
            " 22  n9      28322 non-null  float64\n",
            " 23  n10     28322 non-null  float64\n",
            " 24  n11     28322 non-null  float64\n",
            " 25  n12     28322 non-null  int64  \n",
            " 26  n13     28322 non-null  int64  \n",
            " 27  n14     28322 non-null  float64\n",
            " 28  n15     28322 non-null  int64  \n",
            " 29  label   28322 non-null  int64  \n",
            "dtypes: float64(11), int64(7), object(12)\n",
            "memory usage: 6.5+ MB\n"
          ]
        }
      ]
    },
    {
      "cell_type": "code",
      "source": [
        "df1.shape"
      ],
      "metadata": {
        "colab": {
          "base_uri": "https://localhost:8080/"
        },
        "id": "SvEKbEbpaS9w",
        "outputId": "9ca7fc7a-a14f-4deb-9a0f-6362bae7111e"
      },
      "execution_count": null,
      "outputs": [
        {
          "output_type": "execute_result",
          "data": {
            "text/plain": [
              "(28322, 30)"
            ]
          },
          "metadata": {},
          "execution_count": 72
        }
      ]
    },
    {
      "cell_type": "markdown",
      "source": [
        "# Converting s52 into numerical value(I to 1, o to 0)"
      ],
      "metadata": {
        "id": "MU3V6TjUayXQ"
      }
    },
    {
      "cell_type": "code",
      "source": [
        "df1['s52'] = df1['s52'].replace(['l','o'],['1','0'])"
      ],
      "metadata": {
        "colab": {
          "base_uri": "https://localhost:8080/"
        },
        "id": "MSad--jxa_6I",
        "outputId": "2c0f866c-e389-46a0-91d2-7ba211318679"
      },
      "execution_count": null,
      "outputs": [
        {
          "output_type": "stream",
          "name": "stderr",
          "text": [
            "/usr/local/lib/python3.7/dist-packages/ipykernel_launcher.py:1: SettingWithCopyWarning: \n",
            "A value is trying to be set on a copy of a slice from a DataFrame.\n",
            "Try using .loc[row_indexer,col_indexer] = value instead\n",
            "\n",
            "See the caveats in the documentation: https://pandas.pydata.org/pandas-docs/stable/user_guide/indexing.html#returning-a-view-versus-a-copy\n",
            "  \"\"\"Entry point for launching an IPython kernel.\n"
          ]
        }
      ]
    },
    {
      "cell_type": "code",
      "source": [
        "pd.to_numeric(df1['s52'], downcast='integer')"
      ],
      "metadata": {
        "colab": {
          "base_uri": "https://localhost:8080/"
        },
        "id": "lxPeCNyVffWn",
        "outputId": "a8417261-aa8a-4929-d315-68a23a70d77c"
      },
      "execution_count": null,
      "outputs": [
        {
          "output_type": "execute_result",
          "data": {
            "text/plain": [
              "0        1\n",
              "1        1\n",
              "2        1\n",
              "3        1\n",
              "4        1\n",
              "        ..\n",
              "28317    1\n",
              "28318    1\n",
              "28319    1\n",
              "28320    1\n",
              "28321    1\n",
              "Name: s52, Length: 28322, dtype: int8"
            ]
          },
          "metadata": {},
          "execution_count": 75
        }
      ]
    },
    {
      "cell_type": "code",
      "source": [
        "df1.groupby('s52').size()"
      ],
      "metadata": {
        "colab": {
          "base_uri": "https://localhost:8080/"
        },
        "id": "ThpqzeolhU5H",
        "outputId": "ab741ff8-1674-4d19-d992-8b7f22d88778"
      },
      "execution_count": null,
      "outputs": [
        {
          "output_type": "execute_result",
          "data": {
            "text/plain": [
              "s52\n",
              "0     1290\n",
              "1    27032\n",
              "dtype: int64"
            ]
          },
          "metadata": {},
          "execution_count": 76
        }
      ]
    },
    {
      "cell_type": "code",
      "source": [
        "df1.info()"
      ],
      "metadata": {
        "colab": {
          "base_uri": "https://localhost:8080/"
        },
        "id": "cyNhgwQQ6uK4",
        "outputId": "de0070da-fe41-4e81-ff5d-38ac40376aa8"
      },
      "execution_count": null,
      "outputs": [
        {
          "output_type": "stream",
          "name": "stdout",
          "text": [
            "<class 'pandas.core.frame.DataFrame'>\n",
            "RangeIndex: 28322 entries, 0 to 28321\n",
            "Data columns (total 30 columns):\n",
            " #   Column  Non-Null Count  Dtype  \n",
            "---  ------  --------------  -----  \n",
            " 0   id      28322 non-null  object \n",
            " 1   gender  28322 non-null  object \n",
            " 2   s11     28322 non-null  object \n",
            " 3   s12     28322 non-null  object \n",
            " 4   s13     28322 non-null  int64  \n",
            " 5   s16     28322 non-null  object \n",
            " 6   s17     28322 non-null  object \n",
            " 7   s18     28322 non-null  object \n",
            " 8   s48     28322 non-null  int64  \n",
            " 9   s52     28322 non-null  object \n",
            " 10  s58     28322 non-null  object \n",
            " 11  s69     28322 non-null  object \n",
            " 12  s70     28322 non-null  object \n",
            " 13  s71     28322 non-null  object \n",
            " 14  n1      28322 non-null  float64\n",
            " 15  n2      28322 non-null  float64\n",
            " 16  n3      28322 non-null  int64  \n",
            " 17  n4      28322 non-null  float64\n",
            " 18  n5      28322 non-null  float64\n",
            " 19  n6      28322 non-null  float64\n",
            " 20  n7      28322 non-null  float64\n",
            " 21  n8      28322 non-null  float64\n",
            " 22  n9      28322 non-null  float64\n",
            " 23  n10     28322 non-null  float64\n",
            " 24  n11     28322 non-null  float64\n",
            " 25  n12     28322 non-null  int64  \n",
            " 26  n13     28322 non-null  int64  \n",
            " 27  n14     28322 non-null  float64\n",
            " 28  n15     28322 non-null  int64  \n",
            " 29  label   28322 non-null  int64  \n",
            "dtypes: float64(11), int64(7), object(12)\n",
            "memory usage: 6.5+ MB\n"
          ]
        }
      ]
    },
    {
      "cell_type": "code",
      "source": [
        "id      gender s11     s12     s13     s16     s17   s18     s48     s52     s58      s69     s70     s71     n1       n2      n3      n4      n5       n6        n7        n8       n9       n10      n11     n12     n13       n14     n15     label"
      ],
      "metadata": {
        "id": "9P5Ghi0R6xqf"
      },
      "execution_count": null,
      "outputs": []
    },
    {
      "cell_type": "markdown",
      "source": [
        "# feature selection"
      ],
      "metadata": {
        "id": "W8rEwi566nd_"
      }
    },
    {
      "cell_type": "code",
      "source": [
        "from sklearn.linear_model import LinearRegression\n",
        "\n",
        "#initiate linear regression model\n",
        "model = LinearRegression()\n",
        "\n",
        "#define predictor and response variables\n",
        "col=\"label\"\n",
        "X, y = df1.loc[:, df1.columns != col], df1.label\n",
        "\n",
        "#fit regression model\n",
        "model.fit(X, y)\n",
        "\n",
        "#calculate R-squared of regression model\n",
        "r_squared = model.score(X, y)\n",
        "\n",
        "#view R-squared value\n",
        "print(r_squared)\n",
        "\n",
        "0.7175541714105901"
      ],
      "metadata": {
        "colab": {
          "base_uri": "https://localhost:8080/",
          "height": 413
        },
        "id": "M3BX4L_G6mrJ",
        "outputId": "f2d9aa33-430c-46fb-9fe6-0903a618e980"
      },
      "execution_count": null,
      "outputs": [
        {
          "output_type": "error",
          "ename": "ValueError",
          "evalue": "ignored",
          "traceback": [
            "\u001b[0;31m---------------------------------------------------------------------------\u001b[0m",
            "\u001b[0;31mValueError\u001b[0m                                Traceback (most recent call last)",
            "\u001b[0;32m<ipython-input-81-d77dd7529692>\u001b[0m in \u001b[0;36m<module>\u001b[0;34m()\u001b[0m\n\u001b[1;32m      9\u001b[0m \u001b[0;34m\u001b[0m\u001b[0m\n\u001b[1;32m     10\u001b[0m \u001b[0;31m#fit regression model\u001b[0m\u001b[0;34m\u001b[0m\u001b[0;34m\u001b[0m\u001b[0;34m\u001b[0m\u001b[0m\n\u001b[0;32m---> 11\u001b[0;31m \u001b[0mmodel\u001b[0m\u001b[0;34m.\u001b[0m\u001b[0mfit\u001b[0m\u001b[0;34m(\u001b[0m\u001b[0mX\u001b[0m\u001b[0;34m,\u001b[0m \u001b[0my\u001b[0m\u001b[0;34m)\u001b[0m\u001b[0;34m\u001b[0m\u001b[0;34m\u001b[0m\u001b[0m\n\u001b[0m\u001b[1;32m     12\u001b[0m \u001b[0;34m\u001b[0m\u001b[0m\n\u001b[1;32m     13\u001b[0m \u001b[0;31m#calculate R-squared of regression model\u001b[0m\u001b[0;34m\u001b[0m\u001b[0;34m\u001b[0m\u001b[0;34m\u001b[0m\u001b[0m\n",
            "\u001b[0;32m/usr/local/lib/python3.7/dist-packages/sklearn/linear_model/_base.py\u001b[0m in \u001b[0;36mfit\u001b[0;34m(self, X, y, sample_weight)\u001b[0m\n\u001b[1;32m    661\u001b[0m \u001b[0;34m\u001b[0m\u001b[0m\n\u001b[1;32m    662\u001b[0m         X, y = self._validate_data(\n\u001b[0;32m--> 663\u001b[0;31m             \u001b[0mX\u001b[0m\u001b[0;34m,\u001b[0m \u001b[0my\u001b[0m\u001b[0;34m,\u001b[0m \u001b[0maccept_sparse\u001b[0m\u001b[0;34m=\u001b[0m\u001b[0maccept_sparse\u001b[0m\u001b[0;34m,\u001b[0m \u001b[0my_numeric\u001b[0m\u001b[0;34m=\u001b[0m\u001b[0;32mTrue\u001b[0m\u001b[0;34m,\u001b[0m \u001b[0mmulti_output\u001b[0m\u001b[0;34m=\u001b[0m\u001b[0;32mTrue\u001b[0m\u001b[0;34m\u001b[0m\u001b[0;34m\u001b[0m\u001b[0m\n\u001b[0m\u001b[1;32m    664\u001b[0m         )\n\u001b[1;32m    665\u001b[0m \u001b[0;34m\u001b[0m\u001b[0m\n",
            "\u001b[0;32m/usr/local/lib/python3.7/dist-packages/sklearn/base.py\u001b[0m in \u001b[0;36m_validate_data\u001b[0;34m(self, X, y, reset, validate_separately, **check_params)\u001b[0m\n\u001b[1;32m    579\u001b[0m                 \u001b[0my\u001b[0m \u001b[0;34m=\u001b[0m \u001b[0mcheck_array\u001b[0m\u001b[0;34m(\u001b[0m\u001b[0my\u001b[0m\u001b[0;34m,\u001b[0m \u001b[0;34m**\u001b[0m\u001b[0mcheck_y_params\u001b[0m\u001b[0;34m)\u001b[0m\u001b[0;34m\u001b[0m\u001b[0;34m\u001b[0m\u001b[0m\n\u001b[1;32m    580\u001b[0m             \u001b[0;32melse\u001b[0m\u001b[0;34m:\u001b[0m\u001b[0;34m\u001b[0m\u001b[0;34m\u001b[0m\u001b[0m\n\u001b[0;32m--> 581\u001b[0;31m                 \u001b[0mX\u001b[0m\u001b[0;34m,\u001b[0m \u001b[0my\u001b[0m \u001b[0;34m=\u001b[0m \u001b[0mcheck_X_y\u001b[0m\u001b[0;34m(\u001b[0m\u001b[0mX\u001b[0m\u001b[0;34m,\u001b[0m \u001b[0my\u001b[0m\u001b[0;34m,\u001b[0m \u001b[0;34m**\u001b[0m\u001b[0mcheck_params\u001b[0m\u001b[0;34m)\u001b[0m\u001b[0;34m\u001b[0m\u001b[0;34m\u001b[0m\u001b[0m\n\u001b[0m\u001b[1;32m    582\u001b[0m             \u001b[0mout\u001b[0m \u001b[0;34m=\u001b[0m \u001b[0mX\u001b[0m\u001b[0;34m,\u001b[0m \u001b[0my\u001b[0m\u001b[0;34m\u001b[0m\u001b[0;34m\u001b[0m\u001b[0m\n\u001b[1;32m    583\u001b[0m \u001b[0;34m\u001b[0m\u001b[0m\n",
            "\u001b[0;32m/usr/local/lib/python3.7/dist-packages/sklearn/utils/validation.py\u001b[0m in \u001b[0;36mcheck_X_y\u001b[0;34m(X, y, accept_sparse, accept_large_sparse, dtype, order, copy, force_all_finite, ensure_2d, allow_nd, multi_output, ensure_min_samples, ensure_min_features, y_numeric, estimator)\u001b[0m\n\u001b[1;32m    974\u001b[0m         \u001b[0mensure_min_samples\u001b[0m\u001b[0;34m=\u001b[0m\u001b[0mensure_min_samples\u001b[0m\u001b[0;34m,\u001b[0m\u001b[0;34m\u001b[0m\u001b[0;34m\u001b[0m\u001b[0m\n\u001b[1;32m    975\u001b[0m         \u001b[0mensure_min_features\u001b[0m\u001b[0;34m=\u001b[0m\u001b[0mensure_min_features\u001b[0m\u001b[0;34m,\u001b[0m\u001b[0;34m\u001b[0m\u001b[0;34m\u001b[0m\u001b[0m\n\u001b[0;32m--> 976\u001b[0;31m         \u001b[0mestimator\u001b[0m\u001b[0;34m=\u001b[0m\u001b[0mestimator\u001b[0m\u001b[0;34m,\u001b[0m\u001b[0;34m\u001b[0m\u001b[0;34m\u001b[0m\u001b[0m\n\u001b[0m\u001b[1;32m    977\u001b[0m     )\n\u001b[1;32m    978\u001b[0m \u001b[0;34m\u001b[0m\u001b[0m\n",
            "\u001b[0;32m/usr/local/lib/python3.7/dist-packages/sklearn/utils/validation.py\u001b[0m in \u001b[0;36mcheck_array\u001b[0;34m(array, accept_sparse, accept_large_sparse, dtype, order, copy, force_all_finite, ensure_2d, allow_nd, ensure_min_samples, ensure_min_features, estimator)\u001b[0m\n\u001b[1;32m    744\u001b[0m                     \u001b[0marray\u001b[0m \u001b[0;34m=\u001b[0m \u001b[0marray\u001b[0m\u001b[0;34m.\u001b[0m\u001b[0mastype\u001b[0m\u001b[0;34m(\u001b[0m\u001b[0mdtype\u001b[0m\u001b[0;34m,\u001b[0m \u001b[0mcasting\u001b[0m\u001b[0;34m=\u001b[0m\u001b[0;34m\"unsafe\"\u001b[0m\u001b[0;34m,\u001b[0m \u001b[0mcopy\u001b[0m\u001b[0;34m=\u001b[0m\u001b[0;32mFalse\u001b[0m\u001b[0;34m)\u001b[0m\u001b[0;34m\u001b[0m\u001b[0;34m\u001b[0m\u001b[0m\n\u001b[1;32m    745\u001b[0m                 \u001b[0;32melse\u001b[0m\u001b[0;34m:\u001b[0m\u001b[0;34m\u001b[0m\u001b[0;34m\u001b[0m\u001b[0m\n\u001b[0;32m--> 746\u001b[0;31m                     \u001b[0marray\u001b[0m \u001b[0;34m=\u001b[0m \u001b[0mnp\u001b[0m\u001b[0;34m.\u001b[0m\u001b[0masarray\u001b[0m\u001b[0;34m(\u001b[0m\u001b[0marray\u001b[0m\u001b[0;34m,\u001b[0m \u001b[0morder\u001b[0m\u001b[0;34m=\u001b[0m\u001b[0morder\u001b[0m\u001b[0;34m,\u001b[0m \u001b[0mdtype\u001b[0m\u001b[0;34m=\u001b[0m\u001b[0mdtype\u001b[0m\u001b[0;34m)\u001b[0m\u001b[0;34m\u001b[0m\u001b[0;34m\u001b[0m\u001b[0m\n\u001b[0m\u001b[1;32m    747\u001b[0m             \u001b[0;32mexcept\u001b[0m \u001b[0mComplexWarning\u001b[0m \u001b[0;32mas\u001b[0m \u001b[0mcomplex_warning\u001b[0m\u001b[0;34m:\u001b[0m\u001b[0;34m\u001b[0m\u001b[0;34m\u001b[0m\u001b[0m\n\u001b[1;32m    748\u001b[0m                 raise ValueError(\n",
            "\u001b[0;32m/usr/local/lib/python3.7/dist-packages/pandas/core/generic.py\u001b[0m in \u001b[0;36m__array__\u001b[0;34m(self, dtype)\u001b[0m\n\u001b[1;32m   1991\u001b[0m \u001b[0;34m\u001b[0m\u001b[0m\n\u001b[1;32m   1992\u001b[0m     \u001b[0;32mdef\u001b[0m \u001b[0m__array__\u001b[0m\u001b[0;34m(\u001b[0m\u001b[0mself\u001b[0m\u001b[0;34m,\u001b[0m \u001b[0mdtype\u001b[0m\u001b[0;34m:\u001b[0m \u001b[0mNpDtype\u001b[0m \u001b[0;34m|\u001b[0m \u001b[0;32mNone\u001b[0m \u001b[0;34m=\u001b[0m \u001b[0;32mNone\u001b[0m\u001b[0;34m)\u001b[0m \u001b[0;34m->\u001b[0m \u001b[0mnp\u001b[0m\u001b[0;34m.\u001b[0m\u001b[0mndarray\u001b[0m\u001b[0;34m:\u001b[0m\u001b[0;34m\u001b[0m\u001b[0;34m\u001b[0m\u001b[0m\n\u001b[0;32m-> 1993\u001b[0;31m         \u001b[0;32mreturn\u001b[0m \u001b[0mnp\u001b[0m\u001b[0;34m.\u001b[0m\u001b[0masarray\u001b[0m\u001b[0;34m(\u001b[0m\u001b[0mself\u001b[0m\u001b[0;34m.\u001b[0m\u001b[0m_values\u001b[0m\u001b[0;34m,\u001b[0m \u001b[0mdtype\u001b[0m\u001b[0;34m=\u001b[0m\u001b[0mdtype\u001b[0m\u001b[0;34m)\u001b[0m\u001b[0;34m\u001b[0m\u001b[0;34m\u001b[0m\u001b[0m\n\u001b[0m\u001b[1;32m   1994\u001b[0m \u001b[0;34m\u001b[0m\u001b[0m\n\u001b[1;32m   1995\u001b[0m     def __array_wrap__(\n",
            "\u001b[0;31mValueError\u001b[0m: could not convert string to float: \"b'gAAAAABinOicS09vrmgh0_JyEHihI13ptO0rCyHP7l76be71PWA2ReUc4HUQn16Fya1z8_VStNnFGaXJF262CgsuMPzOaknSeg=='\""
          ]
        }
      ]
    }
  ]
}